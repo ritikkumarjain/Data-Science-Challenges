{
 "cells": [
  {
   "cell_type": "code",
   "execution_count": 1,
   "metadata": {},
   "outputs": [],
   "source": [
    "import pandas as pd\n",
    "import numpy as np\n",
    "from tqdm import tqdm "
   ]
  },
  {
   "cell_type": "code",
   "execution_count": 2,
   "metadata": {},
   "outputs": [],
   "source": [
    "import os\n",
    "import zipfile"
   ]
  },
  {
   "cell_type": "code",
   "execution_count": 3,
   "metadata": {},
   "outputs": [],
   "source": [
    "from sklearn.model_selection import train_test_split\n",
    "import tensorflow as tf\n",
    "from tensorflow import keras\n",
    "from tensorflow.keras import layers\n",
    "from tensorflow.keras.preprocessing import image\n",
    "from tqdm import tqdm \n",
    "from tensorflow.keras.utils import to_categorical\n"
   ]
  },
  {
   "cell_type": "code",
   "execution_count": 4,
   "metadata": {},
   "outputs": [],
   "source": [
    "base_dir='/Users/Ritik/Desktop/Machine Learning/Jolly season/dataset'"
   ]
  },
  {
   "cell_type": "code",
   "execution_count": 5,
   "metadata": {},
   "outputs": [],
   "source": [
    "train_dir=os.path.join(base_dir,'train')\n",
    "test_dir=os.path.join(base_dir,'test')"
   ]
  },
  {
   "cell_type": "code",
   "execution_count": 6,
   "metadata": {},
   "outputs": [
    {
     "name": "stdout",
     "output_type": "stream",
     "text": [
      "Names in train directory:  ['.ipynb_checkpoints', 'image1.jpg', 'image1000.jpg', 'image1001.jpg', 'image1002.jpg']\n",
      "Names in test directory:  ['image10.jpg', 'image100.jpg', 'image1013.jpg', 'image1014.jpg', 'image1018.jpg']\n"
     ]
    }
   ],
   "source": [
    "train_fnames=os.listdir(train_dir)\n",
    "test_fnames=os.listdir(test_dir)\n",
    "\n",
    "print('Names in train directory: ',train_fnames[:5])\n",
    "print('Names in test directory: ',test_fnames[:5])"
   ]
  },
  {
   "cell_type": "code",
   "execution_count": 7,
   "metadata": {},
   "outputs": [],
   "source": [
    "train_new=pd.read_csv('train_new.csv')\n",
    "test_new=pd.read_csv('test_new.csv')"
   ]
  },
  {
   "cell_type": "code",
   "execution_count": 8,
   "metadata": {},
   "outputs": [
    {
     "data": {
      "text/html": [
       "<div>\n",
       "<style scoped>\n",
       "    .dataframe tbody tr th:only-of-type {\n",
       "        vertical-align: middle;\n",
       "    }\n",
       "\n",
       "    .dataframe tbody tr th {\n",
       "        vertical-align: top;\n",
       "    }\n",
       "\n",
       "    .dataframe thead th {\n",
       "        text-align: right;\n",
       "    }\n",
       "</style>\n",
       "<table border=\"1\" class=\"dataframe\">\n",
       "  <thead>\n",
       "    <tr style=\"text-align: right;\">\n",
       "      <th></th>\n",
       "      <th>Image</th>\n",
       "      <th>Class</th>\n",
       "    </tr>\n",
       "  </thead>\n",
       "  <tbody>\n",
       "    <tr>\n",
       "      <th>0</th>\n",
       "      <td>image3476</td>\n",
       "      <td>Miscellaneous</td>\n",
       "    </tr>\n",
       "    <tr>\n",
       "      <th>1</th>\n",
       "      <td>image5198</td>\n",
       "      <td>Candle</td>\n",
       "    </tr>\n",
       "    <tr>\n",
       "      <th>2</th>\n",
       "      <td>image4183</td>\n",
       "      <td>Snowman</td>\n",
       "    </tr>\n",
       "    <tr>\n",
       "      <th>3</th>\n",
       "      <td>image1806</td>\n",
       "      <td>Miscellaneous</td>\n",
       "    </tr>\n",
       "    <tr>\n",
       "      <th>4</th>\n",
       "      <td>image7831</td>\n",
       "      <td>Miscellaneous</td>\n",
       "    </tr>\n",
       "  </tbody>\n",
       "</table>\n",
       "</div>"
      ],
      "text/plain": [
       "       Image          Class\n",
       "0  image3476  Miscellaneous\n",
       "1  image5198         Candle\n",
       "2  image4183        Snowman\n",
       "3  image1806  Miscellaneous\n",
       "4  image7831  Miscellaneous"
      ]
     },
     "execution_count": 8,
     "metadata": {},
     "output_type": "execute_result"
    }
   ],
   "source": [
    "train_new.head()"
   ]
  },
  {
   "cell_type": "code",
   "execution_count": 9,
   "metadata": {},
   "outputs": [
    {
     "data": {
      "text/html": [
       "<div>\n",
       "<style scoped>\n",
       "    .dataframe tbody tr th:only-of-type {\n",
       "        vertical-align: middle;\n",
       "    }\n",
       "\n",
       "    .dataframe tbody tr th {\n",
       "        vertical-align: top;\n",
       "    }\n",
       "\n",
       "    .dataframe thead th {\n",
       "        text-align: right;\n",
       "    }\n",
       "</style>\n",
       "<table border=\"1\" class=\"dataframe\">\n",
       "  <thead>\n",
       "    <tr style=\"text-align: right;\">\n",
       "      <th></th>\n",
       "      <th>Image</th>\n",
       "    </tr>\n",
       "  </thead>\n",
       "  <tbody>\n",
       "    <tr>\n",
       "      <th>0</th>\n",
       "      <td>image10</td>\n",
       "    </tr>\n",
       "    <tr>\n",
       "      <th>1</th>\n",
       "      <td>image100</td>\n",
       "    </tr>\n",
       "    <tr>\n",
       "      <th>2</th>\n",
       "      <td>image1013</td>\n",
       "    </tr>\n",
       "    <tr>\n",
       "      <th>3</th>\n",
       "      <td>image1014</td>\n",
       "    </tr>\n",
       "    <tr>\n",
       "      <th>4</th>\n",
       "      <td>image1018</td>\n",
       "    </tr>\n",
       "  </tbody>\n",
       "</table>\n",
       "</div>"
      ],
      "text/plain": [
       "       Image\n",
       "0    image10\n",
       "1   image100\n",
       "2  image1013\n",
       "3  image1014\n",
       "4  image1018"
      ]
     },
     "execution_count": 9,
     "metadata": {},
     "output_type": "execute_result"
    }
   ],
   "source": [
    "test_new.head()"
   ]
  },
  {
   "cell_type": "code",
   "execution_count": 10,
   "metadata": {},
   "outputs": [
    {
     "name": "stderr",
     "output_type": "stream",
     "text": [
      "100%|████████████████████████████████████████████████████████████████████████████| 6469/6469 [00:04<00:00, 1564.52it/s]"
     ]
    },
    {
     "name": "stdout",
     "output_type": "stream",
     "text": [
      "(6469, 28, 28, 1)\n"
     ]
    },
    {
     "name": "stderr",
     "output_type": "stream",
     "text": [
      "\n"
     ]
    }
   ],
   "source": [
    "train_image=[]\n",
    "for i in tqdm(range(train_new.shape[0])):\n",
    "    #img=image.load_img('/Users/Ritik/Desktop/Machine Learning/Jolly season/dataset/train'+train['Image'][i].astype('str')+'.jpg',target_size=(28,28,1),color_mode=\"grayscale\")\n",
    "    img=image.load_img('/Users/Ritik/Desktop/Machine Learning/Jolly season/dataset/train/'+str(train_new['Image'][i])+'.jpg',target_size=(28,28,1),color_mode=\"grayscale\")\n",
    "    img=image.img_to_array(img)\n",
    "    img=img/255\n",
    "    train_image.append(img)\n",
    "X=np.array(train_image)   \n",
    "print(X.shape)"
   ]
  },
  {
   "cell_type": "code",
   "execution_count": 11,
   "metadata": {},
   "outputs": [
    {
     "name": "stderr",
     "output_type": "stream",
     "text": [
      "100%|████████████████████████████████████████████████████████████████████████████| 3489/3489 [00:02<00:00, 1476.25it/s]"
     ]
    },
    {
     "name": "stdout",
     "output_type": "stream",
     "text": [
      "(3489, 28, 28, 1)\n"
     ]
    },
    {
     "name": "stderr",
     "output_type": "stream",
     "text": [
      "\n"
     ]
    }
   ],
   "source": [
    "test_image=[]\n",
    "for i in tqdm(range(test_new.shape[0])):\n",
    "    imaeg=image.load_img('/Users/Ritik/Desktop/Machine Learning/Jolly season/dataset/test/'+str(test_new['Image'][i])+'.jpg',target_size=(28,28,1),color_mode=(\"grayscale\"))\n",
    "    imaeg=image.img_to_array(imaeg)\n",
    "    imaeg=imaeg/255\n",
    "    test_image.append(imaeg)\n",
    "test_img=np.array(test_image) \n",
    "print(test_img.shape)"
   ]
  },
  {
   "cell_type": "code",
   "execution_count": 12,
   "metadata": {},
   "outputs": [
    {
     "name": "stdout",
     "output_type": "stream",
     "text": [
      "(6469,)\n",
      "(6469, 6)\n",
      "[0. 0. 0. 0. 1. 0.]\n"
     ]
    }
   ],
   "source": [
    "# label_list = train_new['Class'].tolist()\n",
    "# label_numeric = {k: v+1 for v, k in enumerate(set(label_list))}\n",
    "# y = [label_numeric[k] for k in label_list]\n",
    "# y = np.array(y)\n",
    "\n",
    "\n",
    "from sklearn.preprocessing import LabelEncoder\n",
    "le=LabelEncoder()\n",
    "train_new['Class']=le.fit_transform(train_new['Class'])\n",
    "\n",
    "y = train_new['Class']\n",
    "print(y.shape)\n",
    "y = to_categorical(y)\n",
    "print(y.shape)\n",
    "print(y[0])\n"
   ]
  },
  {
   "cell_type": "code",
   "execution_count": 13,
   "metadata": {},
   "outputs": [],
   "source": [
    "# z=pd.DataFrame(y)\n",
    "# z.head(15)\n",
    "# #Miscellaneous=4\n",
    "# #Candle=1\n",
    "# #Snowman=5\n",
    "# #Airplane=0\n",
    "# #Christmas_Tree=2\n",
    "# #Jacket=3\n"
   ]
  },
  {
   "cell_type": "code",
   "execution_count": 64,
   "metadata": {},
   "outputs": [],
   "source": [
    "model = keras.Sequential()\n",
    "model.add(layers.Conv2D(32, kernel_size=(3, 3),activation='relu',input_shape=(28,28,1)))\n",
    "model.add(layers.Conv2D(64, (3, 3), activation='relu'))\n",
    "model.add(layers.MaxPooling2D(pool_size=(2, 2)))\n",
    "model.add(layers.Conv2D(64, (3, 3), activation='relu'))\n",
    "model.add(layers.MaxPooling2D(pool_size=(2, 2)))\n",
    "model.add(layers.Dropout(0.25))\n",
    "model.add(layers.Flatten())\n",
    "model.add(layers.Dense(4096, activation='relu'))\n",
    "model.add(layers.Dropout(0.5))\n",
    "model.add(layers.Dense(6, activation='softmax'))"
   ]
  },
  {
   "cell_type": "code",
   "execution_count": 65,
   "metadata": {},
   "outputs": [],
   "source": [
    "#adam=tf.keras.optimizers.Adam(lr=0.001)\n",
    "rms=tf.keras.optimizers.RMSprop(lr=0.0001)\n",
    "\n",
    "model.compile(optimizer=rms, loss='categorical_crossentropy',metrics=['accuracy'])"
   ]
  },
  {
   "cell_type": "code",
   "execution_count": 66,
   "metadata": {},
   "outputs": [
    {
     "data": {
      "text/plain": [
       "((5175, 28, 28, 1), (5175, 6), (1294, 28, 28, 1), (1294, 6))"
      ]
     },
     "execution_count": 66,
     "metadata": {},
     "output_type": "execute_result"
    }
   ],
   "source": [
    "X_train,X_test,y_train,y_test=train_test_split(X,y,random_state=10,test_size=0.2)\n",
    "X_train.shape,y_train.shape,X_test.shape,y_test.shape"
   ]
  },
  {
   "cell_type": "code",
   "execution_count": 67,
   "metadata": {},
   "outputs": [],
   "source": [
    "lr = keras.callbacks.ReduceLROnPlateau(monitor='loss',factor=0.1,patience=2,cooldown=2,min_lr=0.00005,verbose=1)"
   ]
  },
  {
   "cell_type": "code",
   "execution_count": null,
   "metadata": {},
   "outputs": [
    {
     "name": "stdout",
     "output_type": "stream",
     "text": [
      "Epoch 1/50\n",
      "21/21 [==============================] - 11s 501ms/step - loss: 1.5063 - accuracy: 0.4272 - val_loss: 1.4702 - val_accuracy: 0.4444\n",
      "Epoch 2/50\n",
      "21/21 [==============================] - 11s 503ms/step - loss: 1.4045 - accuracy: 0.4812 - val_loss: 1.4036 - val_accuracy: 0.4691\n",
      "Epoch 3/50\n",
      "21/21 [==============================] - 10s 498ms/step - loss: 1.3474 - accuracy: 0.4989 - val_loss: 1.3534 - val_accuracy: 0.4923\n",
      "Epoch 4/50\n",
      "21/21 [==============================] - 10s 496ms/step - loss: 1.3204 - accuracy: 0.5028 - val_loss: 1.3009 - val_accuracy: 0.5070\n",
      "Epoch 5/50\n",
      "21/21 [==============================] - 10s 492ms/step - loss: 1.2835 - accuracy: 0.5177 - val_loss: 1.3149 - val_accuracy: 0.4969\n",
      "Epoch 6/50\n",
      "21/21 [==============================] - 10s 489ms/step - loss: 1.2624 - accuracy: 0.5268 - val_loss: 1.2588 - val_accuracy: 0.5278\n",
      "Epoch 7/50\n",
      "21/21 [==============================] - 10s 490ms/step - loss: 1.2487 - accuracy: 0.5351 - val_loss: 1.2564 - val_accuracy: 0.5332\n",
      "Epoch 8/50\n",
      "21/21 [==============================] - 10s 491ms/step - loss: 1.2264 - accuracy: 0.5418 - val_loss: 1.2186 - val_accuracy: 0.5641\n",
      "Epoch 9/50\n",
      "21/21 [==============================] - 10s 494ms/step - loss: 1.2126 - accuracy: 0.5451 - val_loss: 1.2260 - val_accuracy: 0.5587\n",
      "Epoch 10/50\n",
      "21/21 [==============================] - 10s 499ms/step - loss: 1.2041 - accuracy: 0.5453 - val_loss: 1.2108 - val_accuracy: 0.5495\n",
      "Epoch 11/50\n",
      "21/21 [==============================] - 10s 496ms/step - loss: 1.1828 - accuracy: 0.5602 - val_loss: 1.1797 - val_accuracy: 0.5696\n",
      "Epoch 12/50\n",
      "21/21 [==============================] - 10s 493ms/step - loss: 1.1814 - accuracy: 0.5617 - val_loss: 1.2532 - val_accuracy: 0.5216\n",
      "Epoch 13/50\n",
      "21/21 [==============================] - 10s 490ms/step - loss: 1.1725 - accuracy: 0.5699 - val_loss: 1.2095 - val_accuracy: 0.5549\n",
      "Epoch 14/50\n",
      "21/21 [==============================] - 10s 489ms/step - loss: 1.1624 - accuracy: 0.5693 - val_loss: 1.1382 - val_accuracy: 0.5935\n",
      "Epoch 15/50\n",
      "21/21 [==============================] - 11s 501ms/step - loss: 1.1491 - accuracy: 0.5689 - val_loss: 1.1848 - val_accuracy: 0.5672\n",
      "Epoch 16/50\n",
      "21/21 [==============================] - 10s 489ms/step - loss: 1.1345 - accuracy: 0.5826 - val_loss: 1.1525 - val_accuracy: 0.5835\n",
      "Epoch 17/50\n",
      "21/21 [==============================] - 10s 489ms/step - loss: 1.1171 - accuracy: 0.5915 - val_loss: 1.1689 - val_accuracy: 0.5688\n",
      "Epoch 18/50\n",
      "21/21 [==============================] - 10s 489ms/step - loss: 1.1239 - accuracy: 0.5809 - val_loss: 1.1729 - val_accuracy: 0.5564\n",
      "Epoch 19/50\n",
      "21/21 [==============================] - 10s 489ms/step - loss: 1.1117 - accuracy: 0.5851 - val_loss: 1.1485 - val_accuracy: 0.5773\n",
      "Epoch 20/50\n",
      "21/21 [==============================] - 10s 489ms/step - loss: 1.1013 - accuracy: 0.5936 - val_loss: 1.1173 - val_accuracy: 0.5819\n",
      "Epoch 21/50\n",
      "21/21 [==============================] - 10s 489ms/step - loss: 1.0955 - accuracy: 0.5901 - val_loss: 1.1178 - val_accuracy: 0.5958\n",
      "Epoch 22/50\n",
      "21/21 [==============================] - 10s 491ms/step - loss: 1.0765 - accuracy: 0.6004 - val_loss: 1.1093 - val_accuracy: 0.5904\n",
      "Epoch 23/50\n",
      "21/21 [==============================] - 10s 490ms/step - loss: 1.0840 - accuracy: 0.5963 - val_loss: 1.0830 - val_accuracy: 0.6059\n",
      "Epoch 24/50\n",
      "21/21 [==============================] - ETA: 0s - loss: 1.0827 - accuracy: 0.5872\n",
      "Epoch 00024: ReduceLROnPlateau reducing learning rate to 5e-05.\n",
      "21/21 [==============================] - 10s 490ms/step - loss: 1.0827 - accuracy: 0.5872 - val_loss: 1.1766 - val_accuracy: 0.5433\n",
      "Epoch 25/50\n",
      "21/21 [==============================] - 10s 489ms/step - loss: 1.0513 - accuracy: 0.6128 - val_loss: 1.0826 - val_accuracy: 0.5966\n",
      "Epoch 26/50\n",
      "21/21 [==============================] - 10s 486ms/step - loss: 1.0412 - accuracy: 0.6141 - val_loss: 1.1220 - val_accuracy: 0.5665\n",
      "Epoch 27/50\n",
      "21/21 [==============================] - 10s 488ms/step - loss: 1.0432 - accuracy: 0.6120 - val_loss: 1.0903 - val_accuracy: 0.5958\n",
      "Epoch 28/50\n",
      "21/21 [==============================] - 11s 503ms/step - loss: 1.0273 - accuracy: 0.6158 - val_loss: 1.0630 - val_accuracy: 0.6105\n",
      "Epoch 29/50\n",
      "21/21 [==============================] - 10s 490ms/step - loss: 1.0283 - accuracy: 0.6209 - val_loss: 1.0581 - val_accuracy: 0.6097\n",
      "Epoch 30/50\n",
      "21/21 [==============================] - 10s 491ms/step - loss: 1.0263 - accuracy: 0.6191 - val_loss: 1.0566 - val_accuracy: 0.6028\n",
      "Epoch 31/50\n",
      "21/21 [==============================] - 10s 491ms/step - loss: 1.0179 - accuracy: 0.6174 - val_loss: 1.0497 - val_accuracy: 0.6229\n",
      "Epoch 32/50\n",
      "19/21 [==========================>...] - ETA: 0s - loss: 1.0116 - accuracy: 0.6172"
     ]
    }
   ],
   "source": [
    "history=model.fit(X_train, y_train, \n",
    "                  batch_size=256,shuffle=True,\n",
    "                  epochs=50,verbose=1,\n",
    "                  validation_data=(X_test,y_test),callbacks=[lr])\n"
   ]
  },
  {
   "cell_type": "code",
   "execution_count": 51,
   "metadata": {},
   "outputs": [
    {
     "data": {
      "image/png": "[encoded data removed]",
      "text/plain": [
       "<Figure size 432x288 with 1 Axes>"
      ]
     },
     "metadata": {
      "needs_background": "light"
     },
     "output_type": "display_data"
    }
   ],
   "source": [
    "import matplotlib.pyplot as plt\n",
    "plt.plot(history.history['loss'])\n",
    "plt.plot(history.history['val_loss'])\n",
    "plt.title(\"Model's Training & Validation loss across epochs\")\n",
    "plt.ylabel('Loss')\n",
    "plt.xlabel('Epochs')\n",
    "plt.legend(['Train', 'Validation'], loc='upper right')\n",
    "plt.show()"
   ]
  },
  {
   "cell_type": "code",
   "execution_count": 52,
   "metadata": {},
   "outputs": [
    {
     "data": {
      "image/png": "[encoded data removed]",
      "text/plain": [
       "<Figure size 432x288 with 1 Axes>"
      ]
     },
     "metadata": {
      "needs_background": "light"
     },
     "output_type": "display_data"
    }
   ],
   "source": [
    "plt.plot(history.history['accuracy'])\n",
    "plt.plot(history.history['val_accuracy'])\n",
    "plt.title(\"Model's Training & Validation accuracy across epochs\")\n",
    "plt.ylabel('Accuracy')\n",
    "plt.xlabel('Epochs')\n",
    "plt.legend(['Train', 'Validation'], loc='lower right')\n",
    "plt.show()"
   ]
  },
  {
   "cell_type": "code",
   "execution_count": 53,
   "metadata": {},
   "outputs": [
    {
     "name": "stdout",
     "output_type": "stream",
     "text": [
      "41/41 [==============================] - 2s 50ms/step - loss: 1.0777 - accuracy: 0.6399\n"
     ]
    },
    {
     "data": {
      "text/plain": [
       "[1.0776631832122803, 0.6398763656616211]"
      ]
     },
     "execution_count": 53,
     "metadata": {},
     "output_type": "execute_result"
    }
   ],
   "source": [
    "model.evaluate(X_test,y_test)"
   ]
  },
  {
   "cell_type": "code",
   "execution_count": 54,
   "metadata": {},
   "outputs": [],
   "source": [
    "# making predictions\n",
    "y_pred =model.predict(test_img)"
   ]
  },
  {
   "cell_type": "code",
   "execution_count": 55,
   "metadata": {},
   "outputs": [
    {
     "data": {
      "text/plain": [
       "[4, 4, 4, 4, 4]"
      ]
     },
     "execution_count": 55,
     "metadata": {},
     "output_type": "execute_result"
    }
   ],
   "source": [
    "prediction = [np.argmax(element) for element in y_pred]\n",
    "prediction[:5]"
   ]
  },
  {
   "cell_type": "code",
   "execution_count": 56,
   "metadata": {},
   "outputs": [],
   "source": [
    "pred=pd.DataFrame()"
   ]
  },
  {
   "cell_type": "code",
   "execution_count": 57,
   "metadata": {},
   "outputs": [],
   "source": [
    "train=pd.read_csv('train.csv')\n",
    "test=pd.read_csv('test.csv')"
   ]
  },
  {
   "cell_type": "code",
   "execution_count": 58,
   "metadata": {},
   "outputs": [],
   "source": [
    "testid=test['Image'].copy()"
   ]
  },
  {
   "cell_type": "code",
   "execution_count": 59,
   "metadata": {},
   "outputs": [],
   "source": [
    "pred=pd.DataFrame({'Image':testid,'Class':prediction})"
   ]
  },
  {
   "cell_type": "code",
   "execution_count": 60,
   "metadata": {},
   "outputs": [
    {
     "data": {
      "text/html": [
       "<div>\n",
       "<style scoped>\n",
       "    .dataframe tbody tr th:only-of-type {\n",
       "        vertical-align: middle;\n",
       "    }\n",
       "\n",
       "    .dataframe tbody tr th {\n",
       "        vertical-align: top;\n",
       "    }\n",
       "\n",
       "    .dataframe thead th {\n",
       "        text-align: right;\n",
       "    }\n",
       "</style>\n",
       "<table border=\"1\" class=\"dataframe\">\n",
       "  <thead>\n",
       "    <tr style=\"text-align: right;\">\n",
       "      <th></th>\n",
       "      <th>Image</th>\n",
       "      <th>Class</th>\n",
       "    </tr>\n",
       "  </thead>\n",
       "  <tbody>\n",
       "    <tr>\n",
       "      <th>0</th>\n",
       "      <td>image10.jpg</td>\n",
       "      <td>4</td>\n",
       "    </tr>\n",
       "    <tr>\n",
       "      <th>1</th>\n",
       "      <td>image100.jpg</td>\n",
       "      <td>4</td>\n",
       "    </tr>\n",
       "    <tr>\n",
       "      <th>2</th>\n",
       "      <td>image1013.jpg</td>\n",
       "      <td>4</td>\n",
       "    </tr>\n",
       "    <tr>\n",
       "      <th>3</th>\n",
       "      <td>image1014.jpg</td>\n",
       "      <td>4</td>\n",
       "    </tr>\n",
       "    <tr>\n",
       "      <th>4</th>\n",
       "      <td>image1018.jpg</td>\n",
       "      <td>4</td>\n",
       "    </tr>\n",
       "    <tr>\n",
       "      <th>5</th>\n",
       "      <td>image1019.jpg</td>\n",
       "      <td>3</td>\n",
       "    </tr>\n",
       "    <tr>\n",
       "      <th>6</th>\n",
       "      <td>image1021.jpg</td>\n",
       "      <td>3</td>\n",
       "    </tr>\n",
       "    <tr>\n",
       "      <th>7</th>\n",
       "      <td>image1023.jpg</td>\n",
       "      <td>4</td>\n",
       "    </tr>\n",
       "    <tr>\n",
       "      <th>8</th>\n",
       "      <td>image1024.jpg</td>\n",
       "      <td>4</td>\n",
       "    </tr>\n",
       "    <tr>\n",
       "      <th>9</th>\n",
       "      <td>image1029.jpg</td>\n",
       "      <td>4</td>\n",
       "    </tr>\n",
       "  </tbody>\n",
       "</table>\n",
       "</div>"
      ],
      "text/plain": [
       "           Image  Class\n",
       "0    image10.jpg      4\n",
       "1   image100.jpg      4\n",
       "2  image1013.jpg      4\n",
       "3  image1014.jpg      4\n",
       "4  image1018.jpg      4\n",
       "5  image1019.jpg      3\n",
       "6  image1021.jpg      3\n",
       "7  image1023.jpg      4\n",
       "8  image1024.jpg      4\n",
       "9  image1029.jpg      4"
      ]
     },
     "execution_count": 60,
     "metadata": {},
     "output_type": "execute_result"
    }
   ],
   "source": [
    "pred.head(10)"
   ]
  },
  {
   "cell_type": "code",
   "execution_count": 61,
   "metadata": {},
   "outputs": [],
   "source": [
    "pred['Class']=le.inverse_transform(pred['Class'])"
   ]
  },
  {
   "cell_type": "code",
   "execution_count": 62,
   "metadata": {},
   "outputs": [
    {
     "data": {
      "text/plain": [
       "Miscellaneous     1611\n",
       "Christmas_Tree    1038\n",
       "Jacket             350\n",
       "Candle             220\n",
       "Airplane           143\n",
       "Snowman            127\n",
       "Name: Class, dtype: int64"
      ]
     },
     "execution_count": 62,
     "metadata": {},
     "output_type": "execute_result"
    }
   ],
   "source": [
    "pred.Class.value_counts()"
   ]
  },
  {
   "cell_type": "code",
   "execution_count": 63,
   "metadata": {},
   "outputs": [],
   "source": [
    "pred.to_csv('JS_simple NN.csv',index=False)"
   ]
  },
  {
   "cell_type": "code",
   "execution_count": null,
   "metadata": {},
   "outputs": [],
   "source": []
  }
 ],
 "metadata": {
  "kernelspec": {
   "display_name": "Python 3",
   "language": "python",
   "name": "python3"
  },
  "language_info": {
   "codemirror_mode": {
    "name": "ipython",
    "version": 3
   },
   "file_extension": ".py",
   "mimetype": "text/x-python",
   "name": "python",
   "nbconvert_exporter": "python",
   "pygments_lexer": "ipython3",
   "version": "3.8.3"
  }
 },
 "nbformat": 4,
 "nbformat_minor": 4
}
